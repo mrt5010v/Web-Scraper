{
 "cells": [
  {
   "cell_type": "markdown",
   "id": "494694f4",
   "metadata": {},
   "source": [
    "# Web Scraping Property Listings Using Beautiful Soup\n",
    "\n",
    "> Project I made to collect data from famous Bulgarian property listings webpage.\n",
    "\n",
    "- toc: true\n",
    "- badges: true\n",
    "- comments: true\n",
    "- categories: [Data Science, Data Engineering, Web Scraper, Beautiful Soup, Translation]\n",
    "- image: images/WebScraper.png"
   ]
  },
  {
   "cell_type": "markdown",
   "id": "c957bd59",
   "metadata": {},
   "source": [
    "#### This Jupyter notebook has been made by Mladen Tsolov\n",
    "\n",
    "\n",
    "#### I have written important information in the beginning of this project that is crucial before we get into a web scraping of a website. Please take your time to read it and do not ignore it, because a web scraping can lead to breaking the law."
   ]
  },
  {
   "cell_type": "markdown",
   "id": "915a43e0",
   "metadata": {},
   "source": [
    "# "
   ]
  },
  {
   "cell_type": "markdown",
   "id": "272a29a1",
   "metadata": {},
   "source": [
    "## General information"
   ]
  },
  {
   "cell_type": "markdown",
   "id": "bf7f6f3e",
   "metadata": {},
   "source": [
    "#### In this Jupyter notebook we will be doing web scraping of a Bulgarian website for properties.\n",
    "#### After we collect the data we will inspect it in more details.\n",
    "#### But before we begin we have to make sure that the website allows web scraping. Some websites do not allow it and we can break the law if we collect data without permission."
   ]
  },
  {
   "cell_type": "markdown",
   "id": "02a40dcf",
   "metadata": {
    "collapsed": true
   },
   "source": [
    "#### It is not very hard to see if a website allows web scraping. All we have to do is to append '/robots.txt' to the main website url:\n",
    "\n",
    "#### https://www.imot.bg/robots.txt\n",
    "#### The result that we get is:\n",
    "\n",
    "#### Sitemap: https://www.imot.bg/sitemap/index.xml    \n",
    "#### User-agent: *                      -  for all users using the website\n",
    "#### Disallow:                             - it is left empty, which means that nothing is restricted"
   ]
  },
  {
   "cell_type": "markdown",
   "id": "99276679",
   "metadata": {},
   "source": [
    "#### "
   ]
  },
  {
   "cell_type": "markdown",
   "id": "82a3f5ee",
   "metadata": {},
   "source": [
    "## Information about the website.\n",
    "#### The website that we will use in this example is only in Bulgarian language. It has many sections like: Buying, Selling, Renting, Looking for new built properties and many more.\n",
    "#### In order to navigate within the website you can right click on it and select: 'Translate to English'\n",
    "#### Imot.bg lists properties predominantly in Bulgaria and Greece, whereas http://worldwide-search.imot.bg/ has listings all over the world.\n",
    "\n",
    "#### In this example we will focus only on https://www.imot.bg/    (imot means property)\n",
    "#### The main page shows us the Bulgarian municipalities borders\n",
    "#### Clicking on one of them will trigger a search window like the one given here: \n",
    "#### https ://ww w.im ot.bg/pcgi/imot.cgi?act=3&slink=  7hou98  &f1=1\n",
    "#### PLEASE NOTE: The reason why I have put spaces in the link above is, because in time it will not work, because the code for the municipality will be changed.\n",
    "#### 7hou98 - is the code for the municipality (please note that the code changes with time)\n",
    "#### =1 - that is the current page (=0 and =1 yeald same result)\n",
    "#### Each municipality page has exactly 40 property results and 25 pages of results.\n",
    " "
   ]
  },
  {
   "cell_type": "markdown",
   "id": "e3a3130f",
   "metadata": {},
   "source": [
    "# "
   ]
  },
  {
   "cell_type": "markdown",
   "id": "503389d8",
   "metadata": {},
   "source": [
    "#### Having said that there is a bit more preparation that we need to do.\n",
    "#### We have to make sure that the webpage link is in the right format like the one below:\n",
    "#### https ://ww w.im ot.bg/pcgi/imot.cgi?act=3&slink=  7hou98  &f1=1\n",
    "#### We can see that it ends with '=1', that means if I wanted to see the second page I can change the 1 with 2 and it will open the second page.\n",
    "\n",
    "#### In order to navigate in the webpage and find the relevant information that we would like to scrape we have 'inspect' it by right clicking anywhere in the webpage and pressing 'view page source' or 'inspect'. In that way we can see the separate objects/tags and tables that combined together form the webpage that we see. Furthermore we can use 'Ctrl + F', which opens a search window with the help of which we can find information faster."
   ]
  },
  {
   "cell_type": "markdown",
   "id": "0d4a2891",
   "metadata": {},
   "source": [
    "# "
   ]
  },
  {
   "cell_type": "markdown",
   "id": "5acaaaea",
   "metadata": {},
   "source": [
    "\n",
    "## How the information that we will scrape looks like?\n",
    "\n",
    "#### The information is \"hidden\" in tags (from HTML). Tags are information containers used in websites.\n",
    "\n",
    "#### In this cell we can see one table tag that has all the information that we need. The majority of that table tag is deleted for clarity.\n",
    "\n",
    "\n",
    "#### table tag - depending on the property the style of this tag can vary. It can be ordinary listing, vip listing or top listing. This table tag represents a single property listing. Within it we can gather additional information.\n",
    "table width=\"660\" cellspacing=\"0\" cellpadding=\"0\" border=\"0\" style=\"margin-bottom:0px; border-top:#990000 1px solid; background:url(../images/picturess/top_bg.gif); background-position:bottom; background-repeat:repeat-x;\"\n",
    "\n",
    "#### td tag - we can get information about the location and the number of rooms of the property. It is a bit tricky to get to the information hidden in the 'alt' parameter (Someone made mistake with the number of rooms for this listing, in the tags below it is said that it is one bedroom apartment).\n",
    "td  a class=\"photoLink\"\n",
    "      img src=\"\" style=\"object-fit: cover;\" width=\"200\" height=\"150\" border=\"0\" \n",
    "      alt=\"2-bedroom apartment for sale, Gorna Oryahovitsa, Veliko Tarnovo region\" \n",
    "                          \n",
    "                     \n",
    "#### div tag - We can get the price of the property using the class of the div\n",
    "div class=\"price\"  img  BGN 58,000\n",
    "\n",
    "#### a tag or link tag - Number of rooms, using the class\n",
    "a href=\"\" class=\"lnk1\" One-bedroom apartment for sale in\n",
    "\n",
    "#### a tag or link tag - Location, using the class\n",
    "a href=\"\" class=\"lnk2\" Gorna Oryahovitsa, Veliko Tarnovo region\n",
    "\n",
    "#### td tag - Additional information about the listing\n",
    "td width=\"520\" colspan=\"3\" height=\"50\" style=\"padding-left:4px\"\n",
    "      69 sq.m, Prolet quarter, ONE BEDROOM APARTMENT EXCLUSIVELY! WE ARE WITH THE KEY! style=\"vertical-align: inherit;\">\n",
    "      Property Tarnovgrad offers one-bedroom panel apartment ..., tel .: 089\n",
    "\n",
    "#### All the tags above are for one property listing."
   ]
  },
  {
   "cell_type": "markdown",
   "id": "264710af",
   "metadata": {},
   "source": [
    "# "
   ]
  },
  {
   "cell_type": "markdown",
   "id": "08b4fb1b",
   "metadata": {},
   "source": [
    "## Language and translation\n",
    "\n",
    "#### The Imot.bg website is in Bulgarian. There are ways to convert the information into English. \n",
    "#### One is to use Module that will translate the information into this notebook - googletrans or googletrans new (I used google trans new).\n",
    "#### Other is to scrape the website, save the dataframe as CSV file and then translate the file with Google Translate.\n",
    "#### I will do both and compare them to see which one is better."
   ]
  },
  {
   "cell_type": "markdown",
   "id": "e4e6e81d",
   "metadata": {},
   "source": [
    "# "
   ]
  },
  {
   "cell_type": "markdown",
   "id": "94b770be",
   "metadata": {},
   "source": [
    "## Actual Web scraping\n",
    "\n",
    "#### Plan of action.\n",
    "#### We will first do web scraping to see how it works and later on we will translate the results. I will try to explain along the way where needed."
   ]
  },
  {
   "cell_type": "code",
   "execution_count": 1,
   "id": "5bda9c93",
   "metadata": {},
   "outputs": [],
   "source": [
    "# Libraries for Web Scraping\n",
    "from bs4 import BeautifulSoup\n",
    "import requests\n",
    "import urllib.request\n",
    "\n",
    "# Libraries for Data Processing\n",
    "import pandas as pd\n",
    "import numpy as np\n",
    "import matplotlib.pyplot as plt\n",
    "\n",
    "# Library for translation into English\n",
    "from google_trans_new import google_translator \n",
    "\n",
    "# The two lines below allow us to see all the columns without truncation.\n",
    "# It allows us to see the dataset better.\n",
    "pd.options.display.max_columns = None\n",
    "pd.options.display.max_rows = None"
   ]
  },
  {
   "cell_type": "markdown",
   "id": "55a4b3b5",
   "metadata": {},
   "source": [
    "#### As mentioned before it is interesting to see that '=0' gives the same result as '=1' (that was for the page number). We do not want repetitions, so we will start with '=1'. We can define a variable called 'url' that will store string with the website's address."
   ]
  },
  {
   "cell_type": "markdown",
   "id": "50ba3d28",
   "metadata": {},
   "source": [
    "#### We can define a function called 'connection' that will make the connection between us and the website and will return number, which will tell us if it was sucessful."
   ]
  },
  {
   "cell_type": "code",
   "execution_count": 2,
   "id": "f93b0063",
   "metadata": {},
   "outputs": [
    {
     "name": "stdout",
     "output_type": "stream",
     "text": [
      "200\n"
     ]
    }
   ],
   "source": [
    "def connection(page):\n",
    "    '''\n",
    "    This function is used to change the number of the page from the link.\n",
    "    So after we finish with collecting the data from page 1, we can continue to page 2\n",
    "    of that webpage and so on.\n",
    "    '''\n",
    "    \n",
    "    # https://router-network.com/tools/what-is-my-user-agent    -> to find the 'user agent'\n",
    "    # Or google -> 'what is my user agent'\n",
    "    # 'user agent' is a mediator between the user and the internet it holds technical information\n",
    "    # About the device (the computer used) and the software\n",
    "    # The 'user agent' is unique for every person on the internet\n",
    "    headers = {'User-Agent': 'Mozilla/5.0 (Windows NT 6.3; Win64; x64) AppleWebKit/537.36 (KHTML, like Gecko) Chrome/94.0.4606.81 Safari/537.36'}\n",
    "    \n",
    "    # F-string in which we can change the number of the page\n",
    "    # Note that 'page' in the f-string is the parameter of the function\n",
    "    url = f'https://www.imot.bg/pcgi/imot.cgi?act=3&slink=7o949b&f1={page}'\n",
    "    \n",
    "    r = requests.get(url, headers)\n",
    "    \n",
    "    # Checks if there is a connection between the user and the webpage\n",
    "    return r.status_code\n",
    "\n",
    "print(connection(1))\n",
    "\n",
    "# https://developer.mozilla.org/en-US/docs/Web/HTTP/Status\n",
    "# Informational responses (100–199)\n",
    "# Successful responses (200–299)\n",
    "# Redirection messages (300–399)\n",
    "# Client error responses (400–499)\n",
    "# Server error responses (500–599)\n",
    "\n",
    "# If we get 200 in return then all is working fine."
   ]
  },
  {
   "cell_type": "markdown",
   "id": "afa9ecab",
   "metadata": {},
   "source": [
    "#### In the cell above, where I wrote about the tags I mentioned about 'div' tag that has stored the price of the property. We can use it to count the number of properties for a single page ->  div class=\"price\"  img  BGN 58,000"
   ]
  },
  {
   "cell_type": "code",
   "execution_count": 3,
   "id": "eb066afe",
   "metadata": {
    "scrolled": true
   },
   "outputs": [
    {
     "name": "stdout",
     "output_type": "stream",
     "text": [
      "40\n"
     ]
    }
   ],
   "source": [
    "# in this cell we count the number of property listings by counting the number of divs called 'price'\n",
    "\n",
    "def extract(page):\n",
    "    '''\n",
    "    This function is used to change the number of the page from the link.\n",
    "    So after we finish with collecting the data from page 1, we can continue to page 2\n",
    "    of that webpage and so on.\n",
    "    '''\n",
    "    \n",
    "    # https://router-network.com/tools/what-is-my-user-agent    -> to find the 'user agent'\n",
    "    # or google -> 'what is my user agent'\n",
    "    # 'user agent' is a mediator between the user and the internet it holds technical information\n",
    "    # about the device (the computer used) and the software\n",
    "    # the 'user agent' is unique for every person on the internet\n",
    "    headers = {'User-Agent': 'Mozilla/5.0 (Windows NT 6.3; Win64; x64) AppleWebKit/537.36 (KHTML, like Gecko) Chrome/94.0.4606.81 Safari/537.36'}\n",
    "    \n",
    "    # f-string in which we can change the number of the page\n",
    "    # note that 'page' in the f-string is the parameter of the function\n",
    "    url = f'https://www.imot.bg/pcgi/imot.cgi?act=3&slink=7o949b&f1={page}'\n",
    "    \n",
    "    r = requests.get(url, headers)\n",
    "    \n",
    "    soup = BeautifulSoup(r.content, 'html.parser')\n",
    "    \n",
    "    return soup\n",
    "\n",
    "\n",
    "def transform(soup):\n",
    "    '''\n",
    "    This function is used to find and collect information.\n",
    "    '''\n",
    "    \n",
    "    divs = soup.find_all('div', class_ = 'price')\n",
    "    \n",
    "    return len(divs)\n",
    "\n",
    "search = extract(1)\n",
    "print(transform(search))\n",
    "\n",
    "# we get as a result 40\n",
    "# that is the number of property listings per page"
   ]
  },
  {
   "cell_type": "markdown",
   "id": "1299f16a",
   "metadata": {},
   "source": [
    "#### If the result is 0, that means that the code for the municipality is changed and that is the main reason. We should get 40 as a result."
   ]
  },
  {
   "cell_type": "markdown",
   "id": "8be3e8dc",
   "metadata": {},
   "source": [
    "# "
   ]
  },
  {
   "cell_type": "markdown",
   "id": "7b0aa8ea",
   "metadata": {},
   "source": [
    "#### We can use the code for the extract function from the cell above. In that way we can focus on the new lines of code.\n",
    "#### From the cell above we can see that we get 40 as a result, that is the number of the properties for one page.\n",
    "#### In the cell below we will use the same functions 'extract' and 'transform' but this time we will collect the information for one property listing."
   ]
  },
  {
   "cell_type": "code",
   "execution_count": 4,
   "id": "54ed061c",
   "metadata": {
    "scrolled": false
   },
   "outputs": [
    {
     "name": "stdout",
     "output_type": "stream",
     "text": [
      "Обява продава къща, гр. Елена, област Велико Търново\n",
      "50 000 EUR\n",
      "Продава КЪЩА\n",
      "гр. Елена, област Велико Търново\n",
      "146 кв.м, двор 2200 кв.м, с.Дърлевци, Реновирана къща със съхранени елементи на автентичното строителство, характерно за района от края на ..., тел.: 0887902715\n",
      "3\n"
     ]
    }
   ],
   "source": [
    "# collects general information for 1 property (first property, first page)\n",
    "\n",
    "def transform_property(soup):\n",
    "    '''\n",
    "    This function is used to find and collect information.\n",
    "    '''\n",
    "    \n",
    "    property_info = soup.find(\"a\", class_ = 'photoLink').img.get('alt')\n",
    "    print(property_info.strip())\n",
    "    \n",
    "    price_div = soup.find('div', class_ = 'price')\n",
    "    print(price_div.text.strip())\n",
    "    \n",
    "    rooms_a = soup.find('a', class_ = 'lnk1')\n",
    "    print(rooms_a.text.strip()) \n",
    "    \n",
    "    location_a = soup.find('a', class_ = 'lnk2')\n",
    "    print(location_a.text.strip())    \n",
    "    \n",
    "    info = soup.find('td', width=\"520\", colspan=\"3\", height=\"50\", style=\"padding-left:4px\")\n",
    "    print(info.text.strip())\n",
    "  \n",
    "    \n",
    "    return len(price_div)\n",
    "\n",
    "search = extract(1)\n",
    "print(transform_property(search))"
   ]
  },
  {
   "cell_type": "markdown",
   "id": "24748a7f",
   "metadata": {},
   "source": [
    "#### Yey! We got something.\n",
    "#### It would have been nice to go to https://translate.google.com/ . Paste the URL of the website we want translated, select to translate from Bulgarian into English and click the URL on the right hand site. We can see that the website is translated. We can copy that link and paste it as a new value for the 'url' variable in 'extract' function.\n",
    "#### https ://www- imot-bg .translate. goog/pcgi/imot.cgi?act=3&slink=7hzunk&f1=1&_x_tr_sl=auto&_x_tr_tl=en&_x_tr_hl=en-GB\n",
    "#### just replace '=1' with '={page}'\n",
    "#### Unfortunately, it does not work."
   ]
  },
  {
   "cell_type": "markdown",
   "id": "5c53f97e",
   "metadata": {},
   "source": [
    "# "
   ]
  },
  {
   "cell_type": "markdown",
   "id": "e171d7c4",
   "metadata": {},
   "source": [
    "#### Each property listing has a unique style for the table that contains the basic information about it - location, price and general information. Depending on the property there can be three styles: Regular, TOP and VIP listing.\n",
    "#### We can use them to collect the information from all listings.\n",
    "#### Starting from the cell below we will focus on the 'transform' function and how to alter the code in order to make it more functional."
   ]
  },
  {
   "cell_type": "code",
   "execution_count": 5,
   "id": "49d02552",
   "metadata": {
    "scrolled": true
   },
   "outputs": [
    {
     "name": "stdout",
     "output_type": "stream",
     "text": [
      "(21, 19, 0, 40)\n",
      "40\n",
      "[{'property_info': 'Обява продава къща, гр. Елена, област Велико Търново', 'price': '50 000 EUR', 'rooms': 'Продава КЪЩА', 'location': 'гр. Елена, област Велико Търново', 'info': '146 кв.м, двор 2200 кв.м, с.Дърлевци, Реновирана къща със съхранени елементи на автентичното строителство, характерно за района от края на ..., тел.: 0887902715'}, {'property_info': 'Обява продава къща, гр. Елена, област Велико Търново', 'price': '65 000 EUR', 'rooms': 'Продава КЪЩА', 'location': 'гр. Елена, област Велико Търново', 'info': '144 кв.м, двор 739 кв.м, с.Граматици, Атрактивен имот в балкана. Двуетажна, частично обзаведена тухлена сграда. Имот с целогодишен достъп  ..., тел.: 0887902715'}, {'property_info': 'Обява продава къща, гр. Елена, област Велико Търново', 'price': '85 000 EUR', 'rooms': 'Продава КЪЩА', 'location': 'гр. Златарица, област Велико Търново', 'info': '185 кв.м, двор 613 кв.м, Primo+ Велико Търново Ви предлага просторна и уютна , тухлена къща след тотален ремонт, с   и добро  ..., тел.: 0887177900'}, {'property_info': 'Обява продава къща, гр. Елена, област Велико Търново', 'price': '115 000 лв.', 'rooms': 'Продава КЪЩА', 'location': 'гр. Павликени, област Велико Търново', 'info': '123 кв.м, двор 750 кв.м, Имоти Търновград Ви предлага двуетажна ОБЗАВЕДЕНА къща в гр. Павликени. Имотът се намира на тиха, ас ..., тел.: 0885168782'}, {'property_info': 'Обява продава къща, гр. Елена, област Велико Търново', 'price': '5 999 EUR', 'rooms': 'Продава КЪЩА', 'location': 'гр. Полски Тръмбеш, област Велико Търново', 'info': '140 кв.м, двор 3000 кв.м, село Орловец, Тухлена къща с голям двор 3000 кв.м и стопански постройки в село Орловец на 30 км от Велико Търново  ..., тел.: 0899855101'}, {'property_info': 'Обява продава къща, гр. Елена, област Велико Търново', 'price': '85 000 EUR', 'rooms': 'Продава КЪЩА', 'location': 'с. Балван, област Велико Търново', 'info': '160 кв.м, двор 1250 кв.м, ВИРТУАЛЕН ТУР! ЕКСКЛУЗИВНО! Реновирана двуетажна къща с допълнителни постройки в село Балван Атракти ..., тел.: 0899921394'}, {'property_info': 'Обява продава къща, гр. Елена, област Велико Търново', 'price': '155 000 EUR', 'rooms': 'Продава КЪЩА', 'location': 'с. Бръчковци, област Велико Търново', 'info': '206 кв.м, двор 826 кв.м, На Вашето внимание представяме един изключителен имот в красивият Еленски Балкан, а именно, новопост ..., тел.: 0884905169'}, {'property_info': 'Обява продава къща, гр. Елена, област Велико Търново', 'price': '252 000 EUR', 'rooms': 'Продава КЪЩА', 'location': 'с. Бръчковци, област Велико Търново', 'info': '220 кв.м, двор 900 кв.м, Агенция   Имоти Консулт  предлага имота  разположен в живописния Еленски балкан, на брега на язовир  ..., тел.: 0988871433'}, {'property_info': 'Обява продава къща, гр. Елена, област Велико Търново', 'price': '49 000 EUR', 'rooms': 'Продава КЪЩА', 'location': 'с. Джулюница, област Велико Търново', 'info': '87 кв.м, двор 680 кв.м, Aгенция за недвижими имоти  SUNNY HOMES  предлага за продажба реновирана къща с двор в с. Джулюница. ..., тел.: 0882373785'}, {'property_info': 'Обява продава къща, гр. Елена, област Велико Търново', 'price': '300 000 EUR', 'rooms': 'Продава КЪЩА', 'location': 'с. Лагерите, област Велико Търново', 'info': '1332 кв.м, двор 12400 кв.м, Тухла 1947 г., ЕКСКЛУЗИВНО: ВНУШИТЕЛНА РЕЗИДЕНЦИЯ С ИСТОРИЯ И СТРАТЕГИЧЕСКА ЛОКАЦИЯ -   МЛАДЕЖКИ ЛАГЕР  ХАИНБОАЗ ,  ..., тел.: 0889590019'}, {'property_info': 'Обява продава къща, гр. Елена, област Велико Търново', 'price': '165 000 EUR', 'rooms': 'Продава КЪЩА', 'location': 'с. Леденик, област Велико Търново', 'info': \"260 кв.м, двор 488 кв.м, ID:12699 ЕКСКЛУЗИВНО !!! Прекрасен имот с панорамна гледка в предпочитано село!!! ''Ту Бългерия''- н ..., тел.: 0876 39 54 29\"}, {'property_info': 'Обява продава къща, гр. Елена, област Велико Търново', 'price': '27 000 лв.', 'rooms': 'Продава КЪЩА', 'location': 'с. Лесичери, област Велико Търново', 'info': '120 кв.м, двор 550 кв.м, Агенция за недвижими имоти  Акценти Пропъртис  ООД Ви предлагаме хубав и добре поддържан имот, разпо ..., тел.: 0887 573 633'}, {'property_info': 'Обява продава къща, гр. Елена, област Велико Търново', 'price': '33 000 лв.', 'rooms': 'Продава КЪЩА', 'location': 'с. Палици, област Велико Търново', 'info': \"120 кв.м, двор 1500 кв.м, ID:20517 ''Ту Бългерия'' недвижими имоти предлага тухлена двуетажна къща с магазин в с.Палици. Селот ..., тел.: 0878 48 47 40\"}, {'property_info': 'Обява продава къща, гр. Елена, област Велико Търново', 'price': '160 000 EUR', 'rooms': 'Продава КЪЩА', 'location': 'с. Палици, област Велико Търново', 'info': '300 кв.м, двор 1600 кв.м, SUNNY HOMES недвижими имоти  предлага  къща с двор, РЗП 300 кв.метра, дворно място 1600 кв.м.,  камъ ..., тел.: 0882373785'}, {'property_info': 'Обява продава къща, гр. Елена, област Велико Търново', 'price': '54 000 лв.', 'rooms': 'Продава КЪЩА', 'location': 'с. Самоводене, област Велико Търново', 'info': \"80 кв.м, двор 500 кв.м, 2 ет., Агенция за недвижими имоти 'Оникс' Ви предлага масивна двуетажна къща на калкан във високата част в  ..., тел.: 0885 971 518\"}, {'property_info': 'Обява продава къща, гр. Елена, област Велико Търново', 'price': '80 000 лв.', 'rooms': 'Продава КЪЩА', 'location': 'с. Хотница, област Велико Търново', 'info': '100 кв.м, двор 1490 кв.м, ЕКСКЛУЗИВНО! Имоти Търновград Ви предлага реновирана къща в село Русаля, намираща се в близост до ре ..., тел.: 0895476397'}, {'property_info': 'Обява продава къща, гр. Елена, област Велико Търново', 'price': '250 000 EUR', 'rooms': 'Продава ХОТЕЛ', 'location': 'гр. Елена, област Велико Търново', 'info': '6878 кв.м, Тухла 2005 г., АRCO REAL ESTATE, ПРЕДЛАГА КОМПЛЕКС С КЪЩИ ЗА ОТДИХ. Близко до комплекса е град Елена, който е извес ..., тел.: 0894550682'}, {'property_info': 'Обява продава къща, гр. Елена, област Велико Търново', 'price': '400 000 EUR', 'rooms': 'Продава ХОТЕЛ', 'location': 'гр. Елена, област Велико Търново', 'info': '1427 кв.м, Тухла 2007 г., ЕРА ИМОТИ РУСЕ Ви предлага уникалната възможност да инвестирате в собствен приказен хотел в живописн ..., тел.: 0886601920'}, {'property_info': 'Обява продава къща, гр. Елена, област Велико Търново', 'price': '300 000 EUR', 'rooms': 'Продава ХОТЕЛ', 'location': 'с. Лагерите, област Велико Търново', 'info': '1332 кв.м, Тухла 1947 г., ЕКСКЛУЗИВНО: Емблематичен обект с история и стратегическа локация до границата на област Велико Търн ..., тел.: 0889590019'}, {'property_info': 'Обява продава къща, гр. Елена, област Велико Търново', 'price': '55 000 EUR', 'rooms': 'Продава ПАРЦЕЛ', 'location': 'гр. Елена, област Велико Търново', 'info': '4974 кв.м, ID:20556 Продава се атрактивен имот с голям понециал в Еленския Балкан разположен в село на 5км гр.  ..., тел.: 0878 48 47 40'}, {'property_info': 'Обява продава къща, гр. Елена, област Велико Търново', 'price': '16 000 EUR', 'rooms': 'Продава ПАРЦЕЛ', 'location': 'с. Ново село, област Велико Търново', 'info': '2400 кв.м, Регулация, Предлагаме ЕКСКЛУЗИВНО, дворно място в регулацията на с. Ново село, с площ на парцела 2400кв.м.. Имо ..., тел.: 0878818845'}, {'property_info': 'Обява продава къща, гр. Елена, област Велико Търново', 'price': '65 000 лв.', 'rooms': 'Продава 2-СТАЕН', 'location': 'гр. Горна Оряховица, област Велико Търново', 'info': '57 кв.м, 7-ми ет. от 7, Агенция за недвижими имоти ОНИКС Ви предлага двустаен апартамент в гр. Горна Оряховица, в най-предпо ..., тел.: 0885 971 518'}, {'property_info': 'Обява продава къща, гр. Елена, област Велико Търново', 'price': '67 000 лв.', 'rooms': 'Продава 2-СТАЕН', 'location': 'гр. Горна Оряховица, област Велико Търново', 'info': '60 кв.м, 2-ри ет. от 8, Предлагаме двустаен, панелен апартамент на междинен етаж, с изложение юг. Имота се състои от: коридо ..., тел.: 0878818845'}, {'property_info': 'Обява продава къща, гр. Елена, област Велико Търново', 'price': '70 000 лв.', 'rooms': 'Продава 2-СТАЕН', 'location': 'гр. Горна Оряховица, област Велико Търново', 'info': '68 кв.м, 8-ми ет. от 8, Газ, ДВУСТАЕН АПАРТАМЕНТ ЕКСКЛУЗИВНО ! Агенция за недвижими имоти ОНИКС Ви предлага двустаен панелен апар ..., тел.: 0885 971 518'}, {'property_info': 'Обява продава къща, гр. Елена, област Велико Търново', 'price': '26 300 EUR', 'rooms': 'Продава 3-СТАЕН', 'location': 'гр. Горна Оряховица, област Велико Търново', 'info': '110 кв.м, 1-ви ет. от 3, ЕКСКЛУЗИВНО! Болярски Имоти предлага за продажба изцяло Южен Тристаен апартамент в квартал Гарата гр ..., тел.: 0877559233'}, {'property_info': 'Обява продава къща, гр. Елена, област Велико Търново', 'price': '62 000 лв.', 'rooms': 'Продава 3-СТАЕН', 'location': 'гр. Горна Оряховица, област Велико Търново', 'info': '80 кв.м, 4-ти ет. от 4, Имоти Търновград Ви предлага тристаен апартамент на шпакловка и замазка в тих район на гр. Горна Оря ..., тел.: 0895476397'}, {'property_info': 'Обява продава къща, гр. Елена, област Велико Търново', 'price': '52 000 EUR', 'rooms': 'Продава 4-СТАЕН', 'location': 'гр. Горна Оряховица, област Велико Търново', 'info': '115 кв.м, 5-ти ет. от 5, Ексклузивна оферта! Агенция за имоти продава четиристаен тухлен апартамент в кв.Пролет, близо до пар ..., тел.: 0887999086'}, {'property_info': 'Обява продава къща, гр. Елена, област Велико Търново', 'price': '89 000 EUR', 'rooms': 'Продава 4-СТАЕН', 'location': 'гр. Горна Оряховица, област Велико Търново', 'info': \"170 кв.м, 2-ри ет. от 3, ТЕЦ, Екипът на агенция 'ОНИКС' Ви предлага луксозно, обзаведен етаж от къща, находящ се в широкия център  ..., тел.: 0885971518\"}, {'property_info': 'Обява продава къща, гр. Елена, област Велико Търново', 'price': '52 500 EUR', 'rooms': 'Продава МНОГОСТАЕН', 'location': 'гр. Горна Оряховица, област Велико Търново', 'info': '93 кв.м, 1-ви ет. от 4, Имоти Търновград има удоволствието да Ви предложи многостаен тухлен апартамент с гараж в град Горна  ..., тел.: 0884796221'}, {'property_info': 'Обява продава къща, гр. Елена, област Велико Търново', 'price': '57 000 EUR', 'rooms': 'Продава МНОГОСТАЕН', 'location': 'гр. Горна Оряховица, област Велико Търново', 'info': '155 кв.м, 4-ти ет. от 4, Тухла 2011 г., Ексклузивна оферта! Без комисионна за купувача! Продава уникален панорамен ново строителство апартам ..., тел.: 0887999086'}, {'property_info': 'Обява продава къща, гр. Елена, област Велико Търново', 'price': '60 000 лв.', 'rooms': 'Продава ЕТАЖ ОТ КЪЩА', 'location': 'гр. Горна Оряховица, област Велико Търново', 'info': '100 кв.м, Калтинец, 2-ри ет. от 2, Агенция за недвижими имоти ОНИКС има удоволствието да Ви предложи етаж от къща в град Горна Оряховиц ..., тел.: 0885 971 518'}, {'property_info': 'Обява продава къща, гр. Елена, област Велико Търново', 'price': '92 300 EUR', 'rooms': 'Продава ЕТАЖ ОТ КЪЩА', 'location': 'гр. Горна Оряховица, област Велико Търново', 'info': '130 кв.м, 1-ви ет. от 2, Агенция за имоти продава ексклузивно луксозно жилище с панорамна гледка в тих и спокоен квартал на Г ..., тел.: 0887999086'}, {'property_info': 'Обява продава къща, гр. Елена, област Велико Търново', 'price': '88 500 лв.', 'rooms': 'Продава ЕТАЖ ОТ КЪЩА', 'location': 'гр. Дебелец, област Велико Търново', 'info': \"89 кв.м, 1-ви ет. от 2, ЕКСКЛУЗИВНО!Екипът на фирма за недвижими имоти 'АкцентИ Пропъртис' ООД Ви предлага самостоятелен ета ..., тел.: 0887/573 633\"}, {'property_info': 'Обява продава къща, гр. Елена, област Велико Търново', 'price': '65 000 EUR', 'rooms': 'Продава ЕТАЖ ОТ КЪЩА', 'location': 'гр. Елена, област Велико Търново', 'info': '117 кв.м, гр.Елена, 2-ри ет. от 3, Тухла 1978 г., Просторен етаж от масивна двуфамилна къща. Намира се на първи жилищен етаж, над гараж / магазин/ скл ..., тел.: 0887902715'}, {'property_info': 'Обява продава къща, гр. Елена, област Велико Търново', 'price': '43 000 EUR', 'rooms': 'Продава КЪЩА', 'location': 'гр. Бяла черква, област Велико Търново', 'info': '130 кв.м, двор 4000 кв.м, 1 ет., Агенция за недвижими имоти БОЛКАН ЕСТЕЙТ предлага ЕКСКЛУЗИВНО на Вашето внимание просторна къща за п ..., тел.: 0886129319'}, {'property_info': 'Обява продава къща, гр. Елена, област Велико Търново', 'price': '55 700 EUR', 'rooms': 'Продава КЪЩА', 'location': 'гр. Горна Оряховица, област Велико Търново', 'info': '150 кв.м, двор 351 кв.м, Болярски Имоти Ви предлага за продажба САМОСТОЯТЕЛНА  двуетажна къща със собствен двор на 5 минути п ..., тел.: 0877559233'}, {'property_info': 'Обява продава къща, гр. Елена, област Велико Търново', 'price': '22 000 EUR', 'rooms': 'Продава КЪЩА', 'location': 'гр. Елена, област Велико Търново', 'info': '214 кв.м, двор 1800 кв.м, с.Беброво, Здрава тухлена двуетажна къща . Сградата е на два етажа, като на първият се намира три стаи, баня и  ..., тел.: 0887902715'}, {'property_info': 'Обява продава къща, гр. Елена, област Велико Търново', 'price': '22 000 EUR', 'rooms': 'Продава КЪЩА', 'location': 'гр. Елена, област Велико Търново', 'info': '150 кв.м, двор 620 кв.м, с.Беброво, Здрава тухлена къща с каменни основи. Сградата е на две нива, като на първото се намира  магазин, пр ..., тел.: 0887902715'}, {'property_info': 'Обява продава къща, гр. Елена, област Велико Търново', 'price': '25 000 EUR', 'rooms': 'Продава КЪЩА', 'location': 'гр. Елена, област Велико Търново', 'info': '120 кв.м, двор 2530 кв.м, с.Средни Колиби, Къща в блзост до яз. Йовковци. Собствен водоизточник - кладенец, централно водоснабдяване на ВиК, ел ..., тел.: 0887902715'}, {'property_info': 'Обява продава къща, гр. Елена, област Велико Търново', 'price': '33 000 EUR', 'rooms': 'Продава КЪЩА', 'location': 'гр. Елена, област Велико Търново', 'info': '90 кв.м, двор 270 кв.м, гр.Елена, Старинна жилищна сграда с дворно място и построената в него двуетажна допълваща сграда. Продава се ж ..., тел.: 0887902715'}]\n"
     ]
    }
   ],
   "source": [
    "def transform(soup):\n",
    "    '''\n",
    "    This function is used to find and collect information.\n",
    "    '''\n",
    "    \n",
    "    # Finds all 'div' tags that store the price for each listing\n",
    "    # It is used to locate all the listings on the page\n",
    "    price_div = soup.find_all('div', class_ = 'price')\n",
    "    \n",
    "    # The different styles of the tables that we gather information are defined\n",
    "    # One table = one property listing\n",
    "    style_0 = \"margin-bottom:0px; border-top:#990000 1px solid; background:url(../images/picturess/top_bg.gif); background-position:bottom; background-repeat:repeat-x;\"\n",
    "    style_1 = \"margin-bottom:0px; border-top:#990000 1px solid; background:url(../images/picturess/vip_bg.gif); background-position:bottom; background-repeat:repeat-x;\"\n",
    "    style_2 = \"margin-bottom:0px; border-top:#990000 1px solid;\"\n",
    "  \n",
    "    # We can find all tables that have the styles from above\n",
    "    table_0 = soup.find_all('table', style=style_0)\n",
    "    table_1 = soup.find_all('table', style=style_1)\n",
    "    table_2 = soup.find_all('table', style=style_2)\n",
    "    \n",
    "    \n",
    "    # for loop to collect the listings for tables with style_0\n",
    "    for i in table_0:\n",
    "        property_info = soup.find(\"a\", class_ = 'photoLink').img.get('alt').strip()\n",
    "        price = i.find('div', class_ = 'price').text.strip()\n",
    "        rooms = i.find('a', class_ = 'lnk1').text.strip()\n",
    "        location = i.find('a', class_ = 'lnk2').text.strip()\n",
    "        info = i.find('td', width=\"520\", colspan=\"3\", height=\"50\", style=\"padding-left:4px\").text.strip()\n",
    "        \n",
    "        # dictionary to store the collected information\n",
    "        property_dictionary_0 = {\n",
    "                            'property_info' : property_info,\n",
    "                            'price' : price,\n",
    "                            'rooms' : rooms,\n",
    "                            'location' : location,\n",
    "                            'info' : info\n",
    "                          }\n",
    "        property_list.append(property_dictionary_0)\n",
    "        \n",
    "          \n",
    "    # for loop to collect the listings for tables with style_1    \n",
    "    for i in table_1:\n",
    "        property_info = soup.find(\"a\", class_ = 'photoLink').img.get('alt').strip()\n",
    "        price = i.find('div', class_ = 'price').text.strip()\n",
    "        rooms = i.find('a', class_ = 'lnk1').text.strip()\n",
    "        location = i.find('a', class_ = 'lnk2').text.strip()\n",
    "        info = i.find('td', width=\"520\", colspan=\"3\", height=\"50\", style=\"padding-left:4px\").text.strip()\n",
    "        \n",
    "        # dictionary to store the collected information\n",
    "        property_dictionary_1 = {\n",
    "                            'property_info' : property_info,\n",
    "                            'price' : price,\n",
    "                            'rooms' : rooms,\n",
    "                            'location' : location,\n",
    "                            'info' : info\n",
    "                          }\n",
    "        property_list.append(property_dictionary_1)\n",
    "        \n",
    "    # for loop to collect the listings for tables with style_2\n",
    "    for i in table_2:\n",
    "        property_info = soup.find(\"a\", class_ = 'photoLink').img.get('alt').strip()\n",
    "        price = i.find('div', class_ = 'price').text.strip()\n",
    "        rooms = i.find('a', class_ = 'lnk1').text.strip()\n",
    "        location = i.find('a', class_ = 'lnk2').text.strip()\n",
    "        info = i.find('td', width=\"520\", colspan=\"3\", height=\"50\", style=\"padding-left:4px\").text.strip()\n",
    "        \n",
    "        # dictionary to store the collected information\n",
    "        property_dictionary_2 = {\n",
    "                            'property_info' : property_info,\n",
    "                            'price' : price,\n",
    "                            'rooms' : rooms,\n",
    "                            'location' : location,\n",
    "                            'info' : info\n",
    "                          }\n",
    "        property_list.append(property_dictionary_2)\n",
    "    \n",
    "    # This return will show how many listings are with style_0, _1 or _2.\n",
    "    # Please note that the sum must be 40\n",
    "    return len(table_0), len(table_1), len(table_2), len(price_div)\n",
    "\n",
    "# we create empty list to which we append info\n",
    "property_list = []\n",
    "\n",
    "\n",
    "search = extract(1)\n",
    "print(transform(search))\n",
    "\n",
    "print(len(property_list))\n",
    "print(property_list)"
   ]
  },
  {
   "cell_type": "markdown",
   "id": "710a1284",
   "metadata": {},
   "source": [
    "#### For example on the first line we may have: (20, 20, 0, 40) - that means that there are 20 properties with 'style 0', 20 properties with 'style 1' and 0 properties with 'style 2'. The sum of which should be always equal to 40. \n",
    "#### The code from above is not hard to understand, but there is a lot of repetition.\n",
    "#### I want to explain how to create a DataFrame object and how to translate it into English just to see how this works and then I will amend the code from above and make it more compact.\n",
    "#### In the cell below the for loop collects data from multiple pages and saves them on 'property_list' variable. "
   ]
  },
  {
   "cell_type": "code",
   "execution_count": 6,
   "id": "21176909",
   "metadata": {
    "scrolled": true
   },
   "outputs": [
    {
     "name": "stdout",
     "output_type": "stream",
     "text": [
      "Page number: 1\n",
      "Page number: 2\n",
      "80\n"
     ]
    }
   ],
   "source": [
    "# Each page has 40 entries, therefore 2 times 40 is equal to 80\n",
    "\n",
    "# I overwrite the 'property_list' variable to be empty list,\n",
    "# otherwise the 'property_list' will grow each time the functions above are run\n",
    "# and will give 'wrong' answers when tested\n",
    "\n",
    "property_list = []\n",
    "\n",
    "for i in range(1,3):\n",
    "    print(f'Page number: {i}')\n",
    "    search = extract(i)\n",
    "    transform(search)\n",
    "    \n",
    "print(len(property_list))"
   ]
  },
  {
   "cell_type": "markdown",
   "id": "2467de25",
   "metadata": {},
   "source": [
    "## Translation using Google Translate\n",
    "\n",
    "#### We have scraped 80 listings from the website, that is now much, but proves that the concept works.\n",
    "#### Let's not forget that the results are in Bulgarian.\n",
    "#### The first way to translate into English is to create a Pandas DataFrame object and save the result into a file. Then we can upload the file here: https://translate.google.com/?sl=bg&tl=en&op=translate  and translate with Google Translate so we can see the final result.\n",
    "\n",
    "#### Initially, when I began working on this project Google Translate was translating *.txt files.\n",
    "#### Now it can translate only - .docx, .pdf, .pptx, or .xlsx.\n",
    "#### It can not translate *.CSV files as well\n",
    "#### First Save it to a  *.CSV file to have the right format and to preserve the encoding.\n",
    "#### Open the *.CSV file 'File' -> 'Save As' -> 'Excel Workbook' (*.xlsx).\n",
    "#### In that way it will allow us to upload the file to Google Translate.\n",
    "#### This will prevent it from telling us that the file is corrupted."
   ]
  },
  {
   "cell_type": "code",
   "execution_count": 7,
   "id": "a155b7bc",
   "metadata": {
    "scrolled": false
   },
   "outputs": [
    {
     "name": "stdout",
     "output_type": "stream",
     "text": [
      "                                       property_info        price  \\\n",
      "0  Обява продава къща, гр. Елена, област Велико Т...   50 000 EUR   \n",
      "1  Обява продава къща, гр. Елена, област Велико Т...   65 000 EUR   \n",
      "2  Обява продава къща, гр. Елена, област Велико Т...   85 000 EUR   \n",
      "3  Обява продава къща, гр. Елена, област Велико Т...  115 000 лв.   \n",
      "4  Обява продава къща, гр. Елена, област Велико Т...    5 999 EUR   \n",
      "\n",
      "          rooms                                   location  \\\n",
      "0  Продава КЪЩА           гр. Елена, област Велико Търново   \n",
      "1  Продава КЪЩА           гр. Елена, област Велико Търново   \n",
      "2  Продава КЪЩА       гр. Златарица, област Велико Търново   \n",
      "3  Продава КЪЩА       гр. Павликени, област Велико Търново   \n",
      "4  Продава КЪЩА  гр. Полски Тръмбеш, област Велико Търново   \n",
      "\n",
      "                                                info  \n",
      "0  146 кв.м, двор 2200 кв.м, с.Дърлевци, Реновира...  \n",
      "1  144 кв.м, двор 739 кв.м, с.Граматици, Атрактив...  \n",
      "2  185 кв.м, двор 613 кв.м, Primo+ Велико Търново...  \n",
      "3  123 кв.м, двор 750 кв.м, Имоти Търновград Ви п...  \n",
      "4  140 кв.м, двор 3000 кв.м, село Орловец, Тухлен...  \n"
     ]
    }
   ],
   "source": [
    "# We create DataFrame object\n",
    "df = pd.DataFrame(property_list)\n",
    "\n",
    "# Print it to see what we got\n",
    "print(df.head())\n",
    "\n",
    "# Apparently, in the description of each listing we can see many commas and semicolons\n",
    "# that are the usually separators.\n",
    "# It will cause problems, so we can change the separator to be '~'\n",
    "df.to_csv('test.csv', encoding = 'utf-8-sig', sep = '~')"
   ]
  },
  {
   "cell_type": "markdown",
   "id": "0795ef5b",
   "metadata": {},
   "source": [
    "#### I had to manually delete the first row of the file - 'test_after_translation' (Excel Worksheet), then save it to  'test_after_translation' (*.CSV). Now when I read the *.CSV file in Python I  wouldn't get an error about some rows having more elements than others, then as you can see below I added again the column names so no harm done."
   ]
  },
  {
   "cell_type": "code",
   "execution_count": 8,
   "id": "e2e27502",
   "metadata": {
    "scrolled": true
   },
   "outputs": [
    {
     "data": {
      "text/html": [
       "<div>\n",
       "<style scoped>\n",
       "    .dataframe tbody tr th:only-of-type {\n",
       "        vertical-align: middle;\n",
       "    }\n",
       "\n",
       "    .dataframe tbody tr th {\n",
       "        vertical-align: top;\n",
       "    }\n",
       "\n",
       "    .dataframe thead th {\n",
       "        text-align: right;\n",
       "    }\n",
       "</style>\n",
       "<table border=\"1\" class=\"dataframe\">\n",
       "  <thead>\n",
       "    <tr style=\"text-align: right;\">\n",
       "      <th></th>\n",
       "      <th>property_info</th>\n",
       "      <th>price</th>\n",
       "      <th>rooms</th>\n",
       "      <th>location</th>\n",
       "      <th>info</th>\n",
       "    </tr>\n",
       "  </thead>\n",
       "  <tbody>\n",
       "    <tr>\n",
       "      <th>0</th>\n",
       "      <td>Ad for sale house, town of Elena, Veliko Tarn...</td>\n",
       "      <td>50 000 EUR</td>\n",
       "      <td>House for sale</td>\n",
       "      <td>c. Helen, Veliko Tarnovo region</td>\n",
       "      <td>146 sq.m., yard 2200 sq.m., The village of Da...</td>\n",
       "    </tr>\n",
       "    <tr>\n",
       "      <th>1</th>\n",
       "      <td>Ad sells a house, town of Elena, Veliko Tarno...</td>\n",
       "      <td>65 000 EUR</td>\n",
       "      <td>House for sale</td>\n",
       "      <td>c. Helen, Veliko Tarnovo region</td>\n",
       "      <td>144 sq.m., yard 739 sq.m., Gramatici village,...</td>\n",
       "    </tr>\n",
       "    <tr>\n",
       "      <th>2</th>\n",
       "      <td>Ad for sale house, town of Elena,Veliko Tarno...</td>\n",
       "      <td>85 000 EUR</td>\n",
       "      <td>House for sale</td>\n",
       "      <td>c. Zlataritsa, Veliko Tarnovo region</td>\n",
       "      <td>185 sq.m., yard 613 sq.m., Primo + Veliko Tar...</td>\n",
       "    </tr>\n",
       "    <tr>\n",
       "      <th>3</th>\n",
       "      <td>Ad for sale house, town of Elena, Veliko Tarn...</td>\n",
       "      <td>115 000 BGN</td>\n",
       "      <td>HOUSE FOR SALE</td>\n",
       "      <td>c. Pavlikeni, Veliko Tarnovo region</td>\n",
       "      <td>123 sq.m., yard 750 sq.m., Property Tarnovgra...</td>\n",
       "    </tr>\n",
       "    <tr>\n",
       "      <th>4</th>\n",
       "      <td>Ad sells a house, town of Elena,Veliko Tarnov...</td>\n",
       "      <td>5 999 EUR</td>\n",
       "      <td>House for sale</td>\n",
       "      <td>c. Polski Trambesh, Veliko Tarnovo region</td>\n",
       "      <td>140 sq.m., yard 3000 sq.m., the village of Or...</td>\n",
       "    </tr>\n",
       "  </tbody>\n",
       "</table>\n",
       "</div>"
      ],
      "text/plain": [
       "                                       property_info          price  \\\n",
       "0   Ad for sale house, town of Elena, Veliko Tarn...    50 000 EUR    \n",
       "1   Ad sells a house, town of Elena, Veliko Tarno...    65 000 EUR    \n",
       "2   Ad for sale house, town of Elena,Veliko Tarno...    85 000 EUR    \n",
       "3   Ad for sale house, town of Elena, Veliko Tarn...   115 000 BGN    \n",
       "4   Ad sells a house, town of Elena,Veliko Tarnov...     5 999 EUR    \n",
       "\n",
       "              rooms                                     location  \\\n",
       "0   House for sale              c. Helen, Veliko Tarnovo region    \n",
       "1   House for sale              c. Helen, Veliko Tarnovo region    \n",
       "2   House for sale         c. Zlataritsa, Veliko Tarnovo region    \n",
       "3   HOUSE FOR SALE          c. Pavlikeni, Veliko Tarnovo region    \n",
       "4   House for sale    c. Polski Trambesh, Veliko Tarnovo region    \n",
       "\n",
       "                                                info  \n",
       "0   146 sq.m., yard 2200 sq.m., The village of Da...  \n",
       "1   144 sq.m., yard 739 sq.m., Gramatici village,...  \n",
       "2   185 sq.m., yard 613 sq.m., Primo + Veliko Tar...  \n",
       "3   123 sq.m., yard 750 sq.m., Property Tarnovgra...  \n",
       "4   140 sq.m., yard 3000 sq.m., the village of Or...  "
      ]
     },
     "execution_count": 8,
     "metadata": {},
     "output_type": "execute_result"
    }
   ],
   "source": [
    "# Once we have uploaded and translated the file we can save it again as Excel Workbook 'test_translated.txt'\n",
    "# We have to make sure that all the rows are translated and not just partly.\n",
    "# If the file has been translated partly then we can try again until it is fully translated.\n",
    "\n",
    "translated_df = pd.read_csv('./test_after_translation.csv', sep = '~', header = None)\n",
    "translated_df = translated_df.drop(axis = 1, columns = 0)\n",
    "translated_df.columns = ['property_info', 'price', 'rooms', 'location','info']\n",
    "\n",
    "translated_df.head()"
   ]
  },
  {
   "cell_type": "markdown",
   "id": "3fe080c4",
   "metadata": {},
   "source": [
    "#### The above DataFrame is the result I got.\n",
    "#### \n",
    "#### \n",
    "#### Now let's try the other way to translate the Bulgarian DataFrame we managed to scrape.\n",
    "#### For this purpose we will use 'google_trans_new' module. \n",
    "#### Important: There is a bug we need to fix before translating anything.\n",
    "#### https://github.com/lushan88a/google_trans_new/issues/36\n",
    "#### Change line 151 and line 233 in google_trans_new/google_trans_new.py:\n",
    "#### response = (decoded_line + ']')      TO      response = (decoded_line)"
   ]
  },
  {
   "cell_type": "markdown",
   "id": "a6df20c1",
   "metadata": {},
   "source": [
    "## Translation using 'google_trans_new' module"
   ]
  },
  {
   "cell_type": "code",
   "execution_count": 9,
   "id": "6036d623",
   "metadata": {},
   "outputs": [
    {
     "name": "stdout",
     "output_type": "stream",
     "text": [
      "['你好中文 ', 'S̄wạs̄dī cīn', 'Nǐ hǎo zhōngwén']\n",
      "['Hello World ', 'Privet mir', None]\n",
      "['Hello world ', 'Zdraveĭ svyat', None]\n"
     ]
    }
   ],
   "source": [
    "# This cell is intended for introducing the 'google_trans_new' module\n",
    "\n",
    "\n",
    "\n",
    "def basic_translation(text_for_translation, target_language):\n",
    "    '''\n",
    "    Basic function introducing 'google_trans_new'.\n",
    "    '''\n",
    "    # We instantiate 'google_translator' object called 'translator'\n",
    "    translator = google_translator(url_suffix=\"bg\", timeout=5)\n",
    "    \n",
    "    # In the brackets we put the text we need translated first, then we define 'lang_tgt' parameter\n",
    "    # that is used to tell to what language we need to translate the original text\n",
    "    translate = translator.translate(text_for_translation,\n",
    "                                     lang_tgt = target_language, \n",
    "                                     pronounce = True) \n",
    "    \n",
    "    return print(translate)\n",
    "    \n",
    "\n",
    "\n",
    "basic_translation('สวัสดีจีน', 'zh')   # 'zh' is for Chinese\n",
    "basic_translation('Привет мир', 'en')\n",
    "basic_translation('Здравей свят', 'en')"
   ]
  },
  {
   "cell_type": "markdown",
   "id": "7483efc4",
   "metadata": {},
   "source": [
    "#### Now we can try to translate the DataFrame from above directly without having to save files and manually translate them with Google.\n",
    "#### It might take some time to complete the translation process."
   ]
  },
  {
   "cell_type": "code",
   "execution_count": 10,
   "id": "1e382fcc",
   "metadata": {},
   "outputs": [],
   "source": [
    "def google_trans(dataframe, source_language, target_language):\n",
    "    \n",
    "    '''\n",
    "    Simple function for translating a DataFrame.\n",
    "    '''\n",
    "    \n",
    "    # We instantiate 'google_translator' object called 'translator'\n",
    "    translator = google_translator(url_suffix=\"bg\", timeout=5)\n",
    "\n",
    "    # Creating a deep copy of the dataframe\n",
    "    google_df = dataframe.copy(deep = True)\n",
    "\n",
    "    # Instantiating 'columns' variable to store the names of the columns\n",
    "    columns = google_df.columns\n",
    "\n",
    "    # For-looping through each column and overwriting each text with translated text\n",
    "    for column in columns:\n",
    "        google_df[column] = google_df[column].apply(translator.translate, \n",
    "                                                    lang_src = source_language,  \n",
    "                                                    lang_tgt = target_language)\n",
    "    return google_df"
   ]
  },
  {
   "cell_type": "markdown",
   "id": "c947dd89",
   "metadata": {},
   "source": [
    "#### Translating the DataFrame and saving it into file."
   ]
  },
  {
   "cell_type": "code",
   "execution_count": 11,
   "id": "332ed6c6",
   "metadata": {},
   "outputs": [],
   "source": [
    "google_trans_df = google_trans(df, 'bg', 'en')\n",
    "\n",
    "google_trans_df.to_csv('google_trans_test.csv')"
   ]
  },
  {
   "cell_type": "markdown",
   "id": "1669c976",
   "metadata": {},
   "source": [
    "#### Reading from the saved file."
   ]
  },
  {
   "cell_type": "code",
   "execution_count": 12,
   "id": "2f2c6e52",
   "metadata": {},
   "outputs": [],
   "source": [
    "google_trans_df = pd.read_csv('./google_trans_test.csv')\n",
    "google_trans_df = google_trans_df.drop(axis = 1, columns = 'Unnamed: 0')"
   ]
  },
  {
   "cell_type": "markdown",
   "id": "7cb5dc27",
   "metadata": {},
   "source": [
    "## Comparing the results from the translation\n",
    "#### Finally, lets compare the results.\n",
    "#### First the Original Dataframe followed by the Manually translated DataFrame and third will be the 'Google Trans New' DataFrame."
   ]
  },
  {
   "cell_type": "code",
   "execution_count": 13,
   "id": "0fa1c020",
   "metadata": {},
   "outputs": [
    {
     "data": {
      "text/html": [
       "<div>\n",
       "<style scoped>\n",
       "    .dataframe tbody tr th:only-of-type {\n",
       "        vertical-align: middle;\n",
       "    }\n",
       "\n",
       "    .dataframe tbody tr th {\n",
       "        vertical-align: top;\n",
       "    }\n",
       "\n",
       "    .dataframe thead th {\n",
       "        text-align: right;\n",
       "    }\n",
       "</style>\n",
       "<table border=\"1\" class=\"dataframe\">\n",
       "  <thead>\n",
       "    <tr style=\"text-align: right;\">\n",
       "      <th></th>\n",
       "      <th>property_info</th>\n",
       "      <th>price</th>\n",
       "      <th>rooms</th>\n",
       "      <th>location</th>\n",
       "      <th>info</th>\n",
       "    </tr>\n",
       "  </thead>\n",
       "  <tbody>\n",
       "    <tr>\n",
       "      <th>0</th>\n",
       "      <td>Обява продава къща, гр. Елена, област Велико Т...</td>\n",
       "      <td>50 000 EUR</td>\n",
       "      <td>Продава КЪЩА</td>\n",
       "      <td>гр. Елена, област Велико Търново</td>\n",
       "      <td>146 кв.м, двор 2200 кв.м, с.Дърлевци, Реновира...</td>\n",
       "    </tr>\n",
       "    <tr>\n",
       "      <th>1</th>\n",
       "      <td>Обява продава къща, гр. Елена, област Велико Т...</td>\n",
       "      <td>65 000 EUR</td>\n",
       "      <td>Продава КЪЩА</td>\n",
       "      <td>гр. Елена, област Велико Търново</td>\n",
       "      <td>144 кв.м, двор 739 кв.м, с.Граматици, Атрактив...</td>\n",
       "    </tr>\n",
       "    <tr>\n",
       "      <th>2</th>\n",
       "      <td>Обява продава къща, гр. Елена, област Велико Т...</td>\n",
       "      <td>85 000 EUR</td>\n",
       "      <td>Продава КЪЩА</td>\n",
       "      <td>гр. Златарица, област Велико Търново</td>\n",
       "      <td>185 кв.м, двор 613 кв.м, Primo+ Велико Търново...</td>\n",
       "    </tr>\n",
       "  </tbody>\n",
       "</table>\n",
       "</div>"
      ],
      "text/plain": [
       "                                       property_info       price  \\\n",
       "0  Обява продава къща, гр. Елена, област Велико Т...  50 000 EUR   \n",
       "1  Обява продава къща, гр. Елена, област Велико Т...  65 000 EUR   \n",
       "2  Обява продава къща, гр. Елена, област Велико Т...  85 000 EUR   \n",
       "\n",
       "          rooms                              location  \\\n",
       "0  Продава КЪЩА      гр. Елена, област Велико Търново   \n",
       "1  Продава КЪЩА      гр. Елена, област Велико Търново   \n",
       "2  Продава КЪЩА  гр. Златарица, област Велико Търново   \n",
       "\n",
       "                                                info  \n",
       "0  146 кв.м, двор 2200 кв.м, с.Дърлевци, Реновира...  \n",
       "1  144 кв.м, двор 739 кв.м, с.Граматици, Атрактив...  \n",
       "2  185 кв.м, двор 613 кв.м, Primo+ Велико Търново...  "
      ]
     },
     "execution_count": 13,
     "metadata": {},
     "output_type": "execute_result"
    }
   ],
   "source": [
    "df.head(3)"
   ]
  },
  {
   "cell_type": "code",
   "execution_count": 14,
   "id": "e9c46199",
   "metadata": {},
   "outputs": [
    {
     "data": {
      "text/html": [
       "<div>\n",
       "<style scoped>\n",
       "    .dataframe tbody tr th:only-of-type {\n",
       "        vertical-align: middle;\n",
       "    }\n",
       "\n",
       "    .dataframe tbody tr th {\n",
       "        vertical-align: top;\n",
       "    }\n",
       "\n",
       "    .dataframe thead th {\n",
       "        text-align: right;\n",
       "    }\n",
       "</style>\n",
       "<table border=\"1\" class=\"dataframe\">\n",
       "  <thead>\n",
       "    <tr style=\"text-align: right;\">\n",
       "      <th></th>\n",
       "      <th>property_info</th>\n",
       "      <th>price</th>\n",
       "      <th>rooms</th>\n",
       "      <th>location</th>\n",
       "      <th>info</th>\n",
       "    </tr>\n",
       "  </thead>\n",
       "  <tbody>\n",
       "    <tr>\n",
       "      <th>0</th>\n",
       "      <td>Ad for sale house, town of Elena, Veliko Tarn...</td>\n",
       "      <td>50 000 EUR</td>\n",
       "      <td>House for sale</td>\n",
       "      <td>c. Helen, Veliko Tarnovo region</td>\n",
       "      <td>146 sq.m., yard 2200 sq.m., The village of Da...</td>\n",
       "    </tr>\n",
       "    <tr>\n",
       "      <th>1</th>\n",
       "      <td>Ad sells a house, town of Elena, Veliko Tarno...</td>\n",
       "      <td>65 000 EUR</td>\n",
       "      <td>House for sale</td>\n",
       "      <td>c. Helen, Veliko Tarnovo region</td>\n",
       "      <td>144 sq.m., yard 739 sq.m., Gramatici village,...</td>\n",
       "    </tr>\n",
       "    <tr>\n",
       "      <th>2</th>\n",
       "      <td>Ad for sale house, town of Elena,Veliko Tarno...</td>\n",
       "      <td>85 000 EUR</td>\n",
       "      <td>House for sale</td>\n",
       "      <td>c. Zlataritsa, Veliko Tarnovo region</td>\n",
       "      <td>185 sq.m., yard 613 sq.m., Primo + Veliko Tar...</td>\n",
       "    </tr>\n",
       "  </tbody>\n",
       "</table>\n",
       "</div>"
      ],
      "text/plain": [
       "                                       property_info         price  \\\n",
       "0   Ad for sale house, town of Elena, Veliko Tarn...   50 000 EUR    \n",
       "1   Ad sells a house, town of Elena, Veliko Tarno...   65 000 EUR    \n",
       "2   Ad for sale house, town of Elena,Veliko Tarno...   85 000 EUR    \n",
       "\n",
       "              rooms                                location  \\\n",
       "0   House for sale         c. Helen, Veliko Tarnovo region    \n",
       "1   House for sale         c. Helen, Veliko Tarnovo region    \n",
       "2   House for sale    c. Zlataritsa, Veliko Tarnovo region    \n",
       "\n",
       "                                                info  \n",
       "0   146 sq.m., yard 2200 sq.m., The village of Da...  \n",
       "1   144 sq.m., yard 739 sq.m., Gramatici village,...  \n",
       "2   185 sq.m., yard 613 sq.m., Primo + Veliko Tar...  "
      ]
     },
     "execution_count": 14,
     "metadata": {},
     "output_type": "execute_result"
    }
   ],
   "source": [
    "translated_df.head(3)"
   ]
  },
  {
   "cell_type": "code",
   "execution_count": 15,
   "id": "1faf0786",
   "metadata": {},
   "outputs": [
    {
     "data": {
      "text/html": [
       "<div>\n",
       "<style scoped>\n",
       "    .dataframe tbody tr th:only-of-type {\n",
       "        vertical-align: middle;\n",
       "    }\n",
       "\n",
       "    .dataframe tbody tr th {\n",
       "        vertical-align: top;\n",
       "    }\n",
       "\n",
       "    .dataframe thead th {\n",
       "        text-align: right;\n",
       "    }\n",
       "</style>\n",
       "<table border=\"1\" class=\"dataframe\">\n",
       "  <thead>\n",
       "    <tr style=\"text-align: right;\">\n",
       "      <th></th>\n",
       "      <th>property_info</th>\n",
       "      <th>price</th>\n",
       "      <th>rooms</th>\n",
       "      <th>location</th>\n",
       "      <th>info</th>\n",
       "    </tr>\n",
       "  </thead>\n",
       "  <tbody>\n",
       "    <tr>\n",
       "      <th>0</th>\n",
       "      <td>Listing House for sale, Elena, Veliko Tarnovo ...</td>\n",
       "      <td>EUR 50 000</td>\n",
       "      <td>House for sale</td>\n",
       "      <td>Elena, Veliko Tarnovo District</td>\n",
       "      <td>146 sq.m, yard 2200 sq.m, S.Mrulevtsi, renovat...</td>\n",
       "    </tr>\n",
       "    <tr>\n",
       "      <th>1</th>\n",
       "      <td>Listing House for sale, Elena, Veliko Tarnovo ...</td>\n",
       "      <td>EUR 65 000</td>\n",
       "      <td>House for sale</td>\n",
       "      <td>Elena, Veliko Tarnovo District</td>\n",
       "      <td>144 sq.m, yard 739 sq.m, villageGamatsi, attra...</td>\n",
       "    </tr>\n",
       "    <tr>\n",
       "      <th>2</th>\n",
       "      <td>Listing House for sale, Elena, Veliko Tarnovo ...</td>\n",
       "      <td>85 000 EUR</td>\n",
       "      <td>House for sale</td>\n",
       "      <td>Zlataritsa, Veliko Tarnovo region</td>\n",
       "      <td>185 sq.m, yard 613 sq.m, Primo + Veliko Tarnov...</td>\n",
       "    </tr>\n",
       "  </tbody>\n",
       "</table>\n",
       "</div>"
      ],
      "text/plain": [
       "                                       property_info        price  \\\n",
       "0  Listing House for sale, Elena, Veliko Tarnovo ...  EUR 50 000    \n",
       "1  Listing House for sale, Elena, Veliko Tarnovo ...  EUR 65 000    \n",
       "2  Listing House for sale, Elena, Veliko Tarnovo ...  85 000 EUR    \n",
       "\n",
       "             rooms                            location  \\\n",
       "0  House for sale      Elena, Veliko Tarnovo District    \n",
       "1  House for sale      Elena, Veliko Tarnovo District    \n",
       "2  House for sale   Zlataritsa, Veliko Tarnovo region    \n",
       "\n",
       "                                                info  \n",
       "0  146 sq.m, yard 2200 sq.m, S.Mrulevtsi, renovat...  \n",
       "1  144 sq.m, yard 739 sq.m, villageGamatsi, attra...  \n",
       "2  185 sq.m, yard 613 sq.m, Primo + Veliko Tarnov...  "
      ]
     },
     "execution_count": 15,
     "metadata": {},
     "output_type": "execute_result"
    }
   ],
   "source": [
    "google_trans_df.head(3)"
   ]
  },
  {
   "cell_type": "markdown",
   "id": "25c525aa",
   "metadata": {},
   "source": [
    "#### Overall, both translations are good, both have flaws and good sides, but personally I prefer the Manual translation : 'translated_df'\n",
    "#### Now we can upgrade the code and scrape listings from multiple municipalities."
   ]
  },
  {
   "cell_type": "markdown",
   "id": "bca4b3f8",
   "metadata": {},
   "source": [
    "### \n",
    "### "
   ]
  },
  {
   "cell_type": "markdown",
   "id": "3c40a6f2",
   "metadata": {},
   "source": [
    "## Introducing new ideas and code modification"
   ]
  },
  {
   "cell_type": "markdown",
   "id": "8513e37d",
   "metadata": {},
   "source": [
    "#### Might be useful to see how we can get the last page for this website.\n",
    "#### Keep in mind every website is designed differently and the code below will not work with other websites. The way I found the last page number was to find the text representing it in the HTML code.\n",
    "#### span class=\"pageNumbersInfo\">Страница 1 от 25</span\n",
    "#### Translated: span class=\"pageNumbersInfo\">PAGE 1 OF 25</span\n",
    "#### It is interesting to mention that this website has 25 pages of properties for each municipality and each page has 40 property listings."
   ]
  },
  {
   "cell_type": "code",
   "execution_count": 16,
   "id": "33797b16",
   "metadata": {},
   "outputs": [
    {
     "name": "stdout",
     "output_type": "stream",
     "text": [
      "['25']\n"
     ]
    }
   ],
   "source": [
    "def transform_page_number(soup):\n",
    "    \n",
    "    '''\n",
    "    This simple function is used to find the last page number for each municipality.\n",
    "    Assumes that the page number is 2 digit number\n",
    "    '''\n",
    "    \n",
    "    # We are looking for 'span' tag from class 'pageNumbersInfo'\n",
    "    last_page = soup.find('span', class_ = 'pageNumbersInfo').text.strip()[-2:]\n",
    "    last_page_number.append(last_page)\n",
    "    \n",
    "    return last_page_number\n",
    "\n",
    "# we create empty list to which we append info\n",
    "property_list = []\n",
    "last_page_number = []\n",
    "\n",
    "\n",
    "search = extract(1)\n",
    "print(transform_page_number(search))"
   ]
  },
  {
   "cell_type": "markdown",
   "id": "dc339915",
   "metadata": {},
   "source": [
    "### "
   ]
  },
  {
   "cell_type": "markdown",
   "id": "28d50b22",
   "metadata": {},
   "source": [
    "#### In order to get results from multiple municipalities we need to alter the code for the 'extract' function. The code for 'transform' function stays the same, it is not the best code. We can see repetition occuring.\n",
    "#### The 'modified_extract' function takes another argument called 'municipality' that is the code of the municipality from the URL for it. We will use it instead of 'extract' from now on."
   ]
  },
  {
   "cell_type": "code",
   "execution_count": 17,
   "id": "9730b97a",
   "metadata": {},
   "outputs": [],
   "source": [
    "def modified_extract(page, municipality):\n",
    "    '''\n",
    "    This function is used to change the number of the page from the link.\n",
    "    So after we finish with collecting the data from page 1, we can continue to page 2\n",
    "    of that webpage and so on.\n",
    "    '''\n",
    "    \n",
    "    # https://router-network.com/tools/what-is-my-user-agent    -> to find the 'user agent'\n",
    "    # or google -> 'what is my user agent'\n",
    "    # 'user agent' is a mediator between the user and the internet it holds technical information\n",
    "    # about the device (the computer used) and the software\n",
    "    # the 'user agent' is unique for every person on the internet\n",
    "    headers = {'User-Agent': 'Mozilla/5.0 (Windows NT 6.3; Win64; x64) AppleWebKit/537.36 (KHTML, like Gecko) Chrome/94.0.4606.81 Safari/537.36'}\n",
    "    \n",
    "    # f-string in which we can change the number of the page\n",
    "    # note that 'page' in the f-string is the parameter of the function\n",
    "    # in addition to that now we can input diferent strings that represent minicipalities\n",
    "    url = f'https://www.imot.bg/pcgi/imot.cgi?act=3&slink={municipality}&f1={page}'\n",
    "    \n",
    "    r = requests.get(url, headers)\n",
    "    \n",
    "    soup = BeautifulSoup(r.content, 'html.parser')\n",
    "    \n",
    "    return soup"
   ]
  },
  {
   "cell_type": "code",
   "execution_count": 18,
   "id": "feef9eea",
   "metadata": {},
   "outputs": [
    {
     "name": "stdout",
     "output_type": "stream",
     "text": [
      "Page number: 1 - Veliko Tarnovo\n",
      "Page number: 2 - Veliko Tarnovo\n",
      "Page number: 1 - Sofia City\n",
      "Page number: 2 - Sofia City\n",
      "160\n"
     ]
    }
   ],
   "source": [
    "# downloads content from different locations/municipalities\n",
    "\n",
    "def transform(soup):\n",
    "    '''\n",
    "    This function is used to find and collect information.\n",
    "    '''\n",
    "    \n",
    "    # We can find all 'div' tags that store the price of each property listing\n",
    "    # in that way we can get all 40 listings\n",
    "    price_div = soup.find_all('div', class_ = 'price')\n",
    "    \n",
    "    # Each listing is associated with a particular style that actually shows if the listing\n",
    "    # is 'Top', 'Vip' or just ordinary listing\n",
    "    style_0 = \"margin-bottom:0px; border-top:#990000 1px solid; background:url(../images/picturess/top_bg.gif); background-position:bottom; background-repeat:repeat-x;\"\n",
    "    style_1 = \"margin-bottom:0px; border-top:#990000 1px solid; background:url(../images/picturess/vip_bg.gif); background-position:bottom; background-repeat:repeat-x;\"\n",
    "    style_2 = \"margin-bottom:0px; border-top:#990000 1px solid;\"\n",
    "    \n",
    "    # We locate all tags 'table' that contain all the information we can scrape and we associate\n",
    "    # the 'table' tag with the different styles\n",
    "    table_0 = soup.find_all('table', style=style_0)\n",
    "    table_1 = soup.find_all('table', style=style_1)\n",
    "    table_2 = soup.find_all('table', style=style_2)\n",
    "    \n",
    "    # The following three for loops go through each 'table' tag and scrape information from it\n",
    "    # The each for loop stores the information into a dictionary. Each dictionary is then appended\n",
    "    # to a list that contains all the information.\n",
    "    for i in table_0:\n",
    "        property_info = soup.find(\"a\", class_ = 'photoLink').img.get('alt').strip()\n",
    "        price = i.find('div', class_ = 'price').text.strip()\n",
    "        rooms = i.find('a', class_ = 'lnk1').text.strip()\n",
    "        location = i.find('a', class_ = 'lnk2').text.strip()\n",
    "        info = i.find('td', width=\"520\", colspan=\"3\", height=\"50\", style=\"padding-left:4px\").text.strip()\n",
    "        \n",
    "        # dictionary to store the collected information\n",
    "        property_dictionary_0 = {\n",
    "                            'property_info' : property_info,\n",
    "                            'price' : price,\n",
    "                            'rooms' : rooms,\n",
    "                            'location' : location,\n",
    "                            'info' : info\n",
    "                          }\n",
    "        property_list.append(property_dictionary_0)\n",
    "        \n",
    "          \n",
    "        \n",
    "    for i in table_1:\n",
    "        property_info = soup.find(\"a\", class_ = 'photoLink').img.get('alt').strip()\n",
    "        price = i.find('div', class_ = 'price').text.strip()\n",
    "        rooms = i.find('a', class_ = 'lnk1').text.strip()\n",
    "        location = i.find('a', class_ = 'lnk2').text.strip()\n",
    "        info = i.find('td', width=\"520\", colspan=\"3\", height=\"50\", style=\"padding-left:4px\").text.strip()\n",
    "        \n",
    "        # dictionary to store the collected information\n",
    "        property_dictionary_1 = {\n",
    "                            'property_info' : property_info,\n",
    "                            'price' : price,\n",
    "                            'rooms' : rooms,\n",
    "                            'location' : location,\n",
    "                            'info' : info\n",
    "                          }\n",
    "        property_list.append(property_dictionary_1)\n",
    "        \n",
    "        \n",
    "    \n",
    "    for i in table_2:\n",
    "        property_info = soup.find(\"a\", class_ = 'photoLink').img.get('alt').strip()\n",
    "        price = i.find('div', class_ = 'price').text.strip()\n",
    "        rooms = i.find('a', class_ = 'lnk1').text.strip()\n",
    "        location = i.find('a', class_ = 'lnk2').text.strip()\n",
    "        info = i.find('td', width=\"520\", colspan=\"3\", height=\"50\", style=\"padding-left:4px\").text.strip()\n",
    "        \n",
    "        # dictionary to store the collected information\n",
    "        property_dictionary_2 = {\n",
    "                            'property_info' : property_info,\n",
    "                            'price' : price,\n",
    "                            'rooms' : rooms,\n",
    "                            'location' : location,\n",
    "                            'info' : info\n",
    "                          }\n",
    "        property_list.append(property_dictionary_2)\n",
    "    \n",
    "    \n",
    "    return len(table_0), len(table_1), len(table_1), len(price_div)\n",
    "\n",
    "# we create empty list to which we append the information gathered from the three for loops\n",
    "property_list = []\n",
    "\n",
    "\n",
    "# These are two list variables that store strings for the municipality and \n",
    "# the actual name of the municipality\n",
    "municipality = ['7o9q5q', '7o9q7x']\n",
    "municipality_translation = ['Veliko Tarnovo', 'Sofia City']\n",
    "\n",
    "\n",
    "# For loop that does the web scraping\n",
    "for i in range(len(municipality)):\n",
    "    x = municipality[i]\n",
    "    for j in range(1,3):\n",
    "        print(f'Page number: {j} - {municipality_translation[i]}')\n",
    "        search = modified_extract(j,x)\n",
    "        transform(search)\n",
    "    \n",
    "print(len(property_list))"
   ]
  },
  {
   "cell_type": "markdown",
   "id": "e11bb141",
   "metadata": {},
   "source": [
    "#### What is important is that we have managed to extract all the property listings of two pages for two municipalities. That means that we can scrape all the property listings if we just add the code for each municipality to the list 'municipality'. In addition to that we can see that for the four pages that we scraped the sum of listings is equal to 160, which means that all is working as it should.\n",
    "#### What is left to do is to make the code for the 'transform' function more compact and to reduce the amount of code. In that way we will reduce the repetition and improve the quality of the code."
   ]
  },
  {
   "cell_type": "code",
   "execution_count": 19,
   "id": "082bf446",
   "metadata": {
    "scrolled": true
   },
   "outputs": [],
   "source": [
    "def modified_transform(soup):\n",
    "    \n",
    "    # finds the total number of pages\n",
    "    # assumes that the page number is 2 digit number\n",
    "    # span class=\"pageNumbersInfo\">Страница 1 от 25</span>    -   Page 1 of 25\n",
    "    \n",
    "    last_page = soup.find('span', class_ = 'pageNumbersInfo').text.strip()[-2:]\n",
    "    last_page_number.append(int(last_page))\n",
    "    \n",
    "    \n",
    "    \n",
    "    # We can find all 'div' tags that store the price of each property listing\n",
    "    # in that way we can get all 40 listings\n",
    "    price_div = soup.find_all('div', class_ = 'price')\n",
    "    \n",
    "    # Each listing is associated with a particular style that actually shows if the listing\n",
    "    # is 'Top', 'Vip' or just ordinary listing\n",
    "    styles = [\"margin-bottom:0px; border-top:#990000 1px solid; background:url(../images/picturess/top_bg.gif); background-position:bottom; background-repeat:repeat-x;\",\n",
    "              \"margin-bottom:0px; border-top:#990000 1px solid; background:url(../images/picturess/vip_bg.gif); background-position:bottom; background-repeat:repeat-x;\",\n",
    "              \"margin-bottom:0px; border-top:#990000 1px solid;\"]\n",
    "    \n",
    "    \n",
    "    # The 'table' tags that contain the information do not have class, the only way to distinguish \n",
    "    # one from another is the 'style' attribute that they have\n",
    "    # We can create a for loop that will collect automatically all the information instead repeating\n",
    "    # the process three times for each table style and if something is changed we can easily\n",
    "    # amend where it is needed.\n",
    "    for i in range(len(styles)):\n",
    "        \n",
    "        table_x = soup.find_all('table', style=styles[i])\n",
    "    \n",
    "        for j in table_x:\n",
    "            property_info = soup.find(\"a\", class_ = 'photoLink').img.get('alt').strip()\n",
    "            price = j.find('div', class_ = 'price').text.strip()\n",
    "            rooms = j.find('a', class_ = 'lnk1').text.strip()\n",
    "            location = j.find('a', class_ = 'lnk2').text.strip()\n",
    "            info = j.find('td', width=\"520\", colspan=\"3\", height=\"50\", style=\"padding-left:4px\").text.strip()\n",
    "\n",
    "            # dictionary to store the collected information\n",
    "            property_dictionary = {\n",
    "                                'property_info' : property_info,\n",
    "                                'price' : price,\n",
    "                                'rooms' : rooms,\n",
    "                                'location' : location,\n",
    "                                'info' : info\n",
    "                                }\n",
    "            property_list.append(property_dictionary)\n",
    "        \n",
    "        \n",
    "    return len(price_div), last_page_number[0], len(property_info)\n",
    "\n",
    "\n",
    "# we create empty list to which we append info\n",
    "property_list = []\n",
    "\n",
    "# variable to store the the last page number\n",
    "last_page_number = []\n",
    "\n",
    "# FOR INFORMATION\n",
    "# The URL code for each municipality is different every now and again.\n",
    "# This is just an example on how to collect them.\n",
    "# Keep in mind that those codes have expired and will give error,\n",
    "# because it can not find the page number if the municipality code from the URL is changed.\n",
    "# municipality = ['7gf7vh', '7gk4sj', '7gjb7j', '7gjay6', '7gk56o', '7gk4gh']\n",
    "# municipality_translation = ['Veliko Tarnovo', 'Sofia City', 'Sofia Municipality',\n",
    "#                             'Lovetch', 'Burgas', 'Varna']\n",
    "\n",
    "\n",
    "# You can see that at the moment 'Veliko Tarnovo' code is '7lzaba' and not '7gf7vh'. \n",
    "municipality = ['7o9q5q']\n",
    "municipality_translation = ['Veliko Tarnovo']\n",
    "\n",
    "\n",
    "# In order to get the last page number we need to run 'modified_extract' function once\n",
    "# so we can get the value of 'last_page_number' variable and empty the 'property_list' variable\n",
    "# For information - it turns out that this site has only 25 pages with 40 properties\n",
    "# per page for each municipality\n",
    "search = modified_extract(1, '7o9q5q')\n",
    "modified_transform(search)\n",
    "# #print(transform(search))\n",
    "property_list = []\n"
   ]
  },
  {
   "cell_type": "markdown",
   "id": "2f2546cb",
   "metadata": {},
   "source": [
    "#### The following cell contains two identical in what they do for loops. The difference between them is that the first one finds the last page number, where as the second one has the number hard-coded."
   ]
  },
  {
   "cell_type": "code",
   "execution_count": 20,
   "id": "6d3faaab",
   "metadata": {},
   "outputs": [
    {
     "name": "stdout",
     "output_type": "stream",
     "text": [
      "Page number: 0 - Veliko Tarnovo\n",
      "Page number: 1 - Veliko Tarnovo\n",
      "Page number: 2 - Veliko Tarnovo\n",
      "Page number: 3 - Veliko Tarnovo\n",
      "Page number: 4 - Veliko Tarnovo\n",
      "Page number: 5 - Veliko Tarnovo\n",
      "Page number: 6 - Veliko Tarnovo\n",
      "Page number: 7 - Veliko Tarnovo\n",
      "Page number: 8 - Veliko Tarnovo\n",
      "Page number: 9 - Veliko Tarnovo\n",
      "Page number: 10 - Veliko Tarnovo\n",
      "Page number: 11 - Veliko Tarnovo\n",
      "Page number: 12 - Veliko Tarnovo\n",
      "Page number: 13 - Veliko Tarnovo\n",
      "Page number: 14 - Veliko Tarnovo\n",
      "Page number: 15 - Veliko Tarnovo\n",
      "Page number: 16 - Veliko Tarnovo\n",
      "Page number: 17 - Veliko Tarnovo\n",
      "Page number: 18 - Veliko Tarnovo\n",
      "Page number: 19 - Veliko Tarnovo\n",
      "Page number: 20 - Veliko Tarnovo\n",
      "Page number: 21 - Veliko Tarnovo\n",
      "Page number: 22 - Veliko Tarnovo\n",
      "Page number: 23 - Veliko Tarnovo\n",
      "Page number: 24 - Veliko Tarnovo\n",
      "1000\n",
      "[25, 25, 25, 25, 25, 25, 25, 25, 25, 25, 25, 25, 25, 25, 25, 25, 25, 25, 25, 25, 25, 25, 25, 25, 25, 25]\n"
     ]
    }
   ],
   "source": [
    "property_list = []\n",
    "\n",
    "\n",
    "for i in range(len(municipality)):    \n",
    "    for j in range(0, int(last_page_number[0])):\n",
    "        print(f'Page number: {j} - {municipality_translation[i]}')\n",
    "        search = modified_extract(j, municipality[i])\n",
    "        modified_transform(search)\n",
    "\n",
    "\n",
    "# This is the same for-loop as the one from above, it is just using out knowledge that the last page number is 25.\n",
    "# for i in range(len(municipality)):    \n",
    "#     for j in range(1, 26, 1):\n",
    "#         print(f'Page number: {j} - {municipality_translation[i]}')\n",
    "#         search = modified_extract(j, municipality[i])\n",
    "#         transform(search)\n",
    "\n",
    "print(len(property_list))\n",
    "print(last_page_number)"
   ]
  },
  {
   "cell_type": "markdown",
   "id": "13f79581",
   "metadata": {},
   "source": [
    "#### We got 25 pages, which is the total amount and 25 times 40 is equal to 1000 and that is the exact number of property listings that we got.\n",
    "#### We can just add more municipalities and to the 'municipality' list and it will collect all the data for us.\n",
    "#### Then we can save the dataframe as shown before as CSV file and read the CSV into Pandas to start cleaning and analyzing the data.\n",
    "#### Lastly, I want to show that it can work for different municipalities, but I will hard code it to take the first 2 pages of each so it will show that it can do the job as it should."
   ]
  },
  {
   "cell_type": "code",
   "execution_count": 21,
   "id": "8e7ce29b",
   "metadata": {
    "scrolled": true
   },
   "outputs": [
    {
     "name": "stdout",
     "output_type": "stream",
     "text": [
      "Page number: 0 - Sofia City\n",
      "Page number: 1 - Sofia City\n",
      "Page number: 0 - Veliko Tarnovo\n",
      "Page number: 1 - Veliko Tarnovo\n",
      "Page number: 0 - Varna\n",
      "Page number: 1 - Varna\n",
      "240\n",
      "[25, 25, 25, 25, 25, 25]\n"
     ]
    }
   ],
   "source": [
    "municipality = ['7o9qpr', '7o9q5q', '7o9qs2']\n",
    "municipality_translation = ['Sofia City', 'Veliko Tarnovo', 'Varna']\n",
    "\n",
    "last_page_number = []\n",
    "property_list = []\n",
    "\n",
    "for i in range(len(municipality)):    \n",
    "#     for j in range(0, int(last_page_number[0])):\n",
    "    for j in range(0, 2):\n",
    "        print(f'Page number: {j} - {municipality_translation[i]}')\n",
    "        search = modified_extract(j, municipality[i])\n",
    "        modified_transform(search)\n",
    "      \n",
    "    \n",
    "print(len(property_list))\n",
    "print(last_page_number)"
   ]
  },
  {
   "cell_type": "markdown",
   "id": "2fb0a9a9",
   "metadata": {},
   "source": [
    "#### We can still check the results and make sure that everything is working fine. 6 * 40 = 240. That is obvious, but let's check what are the municipality names."
   ]
  },
  {
   "cell_type": "code",
   "execution_count": 22,
   "id": "1a6c623a",
   "metadata": {},
   "outputs": [],
   "source": [
    "# This function is pretty much the same as 'basic_translation' the only difference is that\n",
    "# this one doesn't have the pronunciation written down, which we do not need.\n",
    "\n",
    "def basic_translation_list(text_for_translation, target_language):\n",
    "    '''\n",
    "    Basic function introducing 'google_trans_new'.\n",
    "    '''\n",
    "    # We instantiate 'google_translator' object called 'translator'\n",
    "    translator = google_translator(url_suffix=\"bg\", timeout=5)\n",
    "    \n",
    "    # In the brackets we put the text we need translated first, then we define 'lang_tgt' parameter\n",
    "    # that is used to tell to what language we need to translate the original text\n",
    "    translate = translator.translate(text_for_translation,\n",
    "                                     lang_tgt = target_language) \n",
    "    \n",
    "    return print(translate)\n",
    "\n",
    "\n",
    "\n",
    "def dictionary_into_dataframe(dictionary):\n",
    "    '''\n",
    "    This function takes as an argument a dictionary and creates a DataFrame using Pandas.\n",
    "    The function returns as a result the municipalities.\n",
    "    '''\n",
    "\n",
    "    # We instantiate a DataFrame object\n",
    "    dataframe = pd.DataFrame(dictionary)\n",
    "    \n",
    "    # We take only the 'location' column for translation\n",
    "    dataframe_unique_locations = dataframe['location'].unique()\n",
    "    \n",
    "    # The actual translation\n",
    "    translation = basic_translation_list(dataframe_unique_locations, 'en')\n",
    "    \n",
    "    return translation\n"
   ]
  },
  {
   "cell_type": "code",
   "execution_count": 23,
   "id": "ff521a45",
   "metadata": {},
   "outputs": [
    {
     "name": "stdout",
     "output_type": "stream",
     "text": [
      "['city Sofia, Banishora' 'city Sofia, Vitosha' 'city Sofia, Vrabnitsa 1'\n",
      " 'city of Sofia, Geo Milev' 'city Sofia, Dianabad' 'city Sofia, Dragalevtsi'\n",
      " 'city of Sofia, Darvenica' 'city Sofia, Lozenets' 'city Sofia, Lyulin 5'\n",
      " 'city of Sofia, Lyulin 7' 'city Sofia, Malinova Valley'\n",
      " 'city of Sofia, Manastirski livadi' 'city Sofia, Mladost 1'\n",
      " 'city of Sofia, Mladost 3' 'city Sofia, Mladost 4'\n",
      " 'city of Sofia, modern suburb' 'city Sofia, Hope 1'\n",
      " 'city of Sofia, Obelya 2' 'city Sofia, Ovcha Kupel 1' 'city Sofia, Pavlovo'\n",
      " 'city of Sofia, Poduyane' 'city Sofia, the Holy Trinity' 'city Sofia, Slatina'\n",
      " 'city. Elena, Veliko Tarnovo region '' gr. Zlataritsa, Veliko Tarnovo region\n",
      " 'city. Pavlikeni, Veliko Tarnovo region\n",
      " 'city. Polski Trambesh, Veliko Tarnovo region\n",
      " 's. Balvan, Veliko Tarnovo region '' s. Bridkovtsi, Veliko Tarnovo region\n",
      " 's. Julyunitsa, Veliko Tarnovo region\n",
      " 's. The camps, Veliko Tarnovo region Ledenik, Veliko Tarnovo region\n",
      " 's. Lesichari, Veliko Tarnovo Region '' Pales, Veliko Tarnovo Region\n",
      " 's. Samepage, Veliko Tarnovo Region\n",
      " 's. Hotnitsa, Veliko Tarnovo region \" Novo selo, Veliko Tarnovo region\n",
      " 'city. Gorna Oryahovitsa, Veliko Tarnovo region\n",
      " 'city. Debelets, Veliko Tarnovo region\n",
      " 'city. White church, Veliko Tarnovo region \" Byala, Varna Region\n",
      " 'kk Kamchia, Varna Region '' Valchi Dol, Varna Region '\n",
      " 'city. Provadia, Varna Region '' s. Avren, Varna Region '\n",
      " 's. Gemini, Varna Region '' s. Bolagers, Varna Region '\n",
      " 's. General Kantardzhievo, Varna Region \" Oreshak, Varna Region '\n",
      " 's. Radevo, Varna Region '' Shkorpilovtsi, Varna Region '\n",
      " 's. Goritsa, Varna Region \"s. Chertricks, Varna Region '\n",
      " 'city. Beloslav, Varna Region '] \n"
     ]
    }
   ],
   "source": [
    "dictionary_into_dataframe(property_list)"
   ]
  },
  {
   "cell_type": "markdown",
   "id": "003abf21",
   "metadata": {},
   "source": [
    "#### If we take a second and look at the result we have from the cell below we can see that the municipalities listed below are as follows: 'city of Sofia', 'Veliko Tarnovo region' and 'Varna Region'. That means that the Web scraper is doing exactly what we want.\n",
    "#### The main task that we have specified in the beginning of this Jupyter Notebook is now accomplished. That doesn't mean that we still do not have work to do for the data that we have extracted, but this is for another Jupyter Notebook."
   ]
  },
  {
   "cell_type": "markdown",
   "id": "c62ab629",
   "metadata": {},
   "source": [
    "#### Thank you very much for your attention and time."
   ]
  },
  {
   "cell_type": "markdown",
   "id": "5c9efbdd",
   "metadata": {},
   "source": [
    "#### Kind regards,\n",
    "#### Mladen"
   ]
  },
  {
   "cell_type": "markdown",
   "id": "45ec266d",
   "metadata": {},
   "source": [
    "### "
   ]
  }
 ],
 "metadata": {
  "kernelspec": {
   "display_name": "geo_env",
   "language": "python",
   "name": "geo_env"
  },
  "language_info": {
   "codemirror_mode": {
    "name": "ipython",
    "version": 3
   },
   "file_extension": ".py",
   "mimetype": "text/x-python",
   "name": "python",
   "nbconvert_exporter": "python",
   "pygments_lexer": "ipython3",
   "version": "3.9.6"
  }
 },
 "nbformat": 4,
 "nbformat_minor": 5
}
